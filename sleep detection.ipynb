{
 "cells": [
  {
   "cell_type": "code",
   "execution_count": 52,
   "metadata": {},
   "outputs": [],
   "source": [
    "import dlib\n",
    "import cv2\n",
    "import numpy as np\n",
    "from math import hypot\n",
    "\n",
    "cap=cv2.VideoCapture(0)\n",
    "detector=dlib.get_frontal_face_detector()\n",
    "predictor = dlib.shape_predictor(\"C:\\\\Users\\\\Hasan\\\\shape_predictor_68_face_landmarks.dat\")\n",
    "\n",
    "count= 0\n",
    "def midpoint(p1 ,p2):\n",
    "    return int((p1.x + p2.x)/2), int((p1.y + p2.y)/2)\n",
    "font=cv2.FONT_HERSHEY_SIMPLEX\n",
    "\n",
    "while True:\n",
    "    _,frame=cap.read()\n",
    "    \n",
    "    gray_frame = cv2.cvtColor(frame, cv2.COLOR_BGR2GRAY)\n",
    "    \n",
    "    faces=detector(gray_frame)\n",
    "    \n",
    "    for face in faces:\n",
    "        landmarks = predictor(gray_frame, face)\n",
    "        extreme_left_eye=(landmarks.part(36).x,landmarks.part(36).y)            \n",
    "        extreme_right_eye=(landmarks.part(39).x,landmarks.part(39).y)               \n",
    "        left_eye=(landmarks.part(42).x,landmarks.part(42).y)\n",
    "        right_eye=(landmarks.part(45).x,landmarks.part(45).y)\n",
    "\n",
    "\n",
    "        \n",
    "        center_top = midpoint(landmarks.part(37), landmarks.part(38))\n",
    "        center_bottom = midpoint(landmarks.part(41), landmarks.part(40))\n",
    "        right_center_top = midpoint(landmarks.part(43), landmarks.part(44))\n",
    "        right_center_bottom = midpoint(landmarks.part(47), landmarks.part(46))\n",
    "       \n",
    "        eye_width=int(hypot(extreme_left_eye[0]-extreme_right_eye[0],extreme_left_eye[1]-extreme_right_eye[1]))\n",
    "        eye_height=int(hypot(center_top[0]-center_bottom[0],center_top[1]-center_bottom[1]))\n",
    "\n",
    "        \n",
    "        ratio=eye_width/eye_height\n",
    "        \n",
    "        if ratio > 5.3:\n",
    "            count +=1\n",
    "            if count>50:\n",
    "                cv2.putText(frame, \"sleeping\", (50, 150), font, 10, (0, 0, 255))\n",
    "        else:\n",
    "            cv2.putText(frame, \"not sleeping\", (50, 150), font, 10, (0, 255, 0))\n",
    "            count=0\n",
    "\n",
    "        \n",
    "       \n",
    "    cv2.imshow(\"Frame\", frame)\n",
    "\n",
    "\n",
    "\n",
    "    k = cv2.waitKey(30) & 0xff\n",
    "    if k == 27:\n",
    "        break\n",
    "\n",
    "cap.release()\n",
    "cv2.destroyAllWindows()"
   ]
  },
  {
   "cell_type": "code",
   "execution_count": 45,
   "metadata": {},
   "outputs": [
    {
     "data": {
      "text/plain": [
       "1568047057.1833572"
      ]
     },
     "execution_count": 45,
     "metadata": {},
     "output_type": "execute_result"
    }
   ],
   "source": [
    "import time\n",
    "time.time()"
   ]
  },
  {
   "cell_type": "code",
   "execution_count": null,
   "metadata": {},
   "outputs": [],
   "source": []
  },
  {
   "cell_type": "code",
   "execution_count": null,
   "metadata": {},
   "outputs": [],
   "source": []
  }
 ],
 "metadata": {
  "kernelspec": {
   "display_name": "Python 3",
   "language": "python",
   "name": "python3"
  },
  "language_info": {
   "codemirror_mode": {
    "name": "ipython",
    "version": 3
   },
   "file_extension": ".py",
   "mimetype": "text/x-python",
   "name": "python",
   "nbconvert_exporter": "python",
   "pygments_lexer": "ipython3",
   "version": "3.7.0"
  }
 },
 "nbformat": 4,
 "nbformat_minor": 2
}
